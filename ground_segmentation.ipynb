{
 "cells": [
  {
   "cell_type": "markdown",
   "metadata": {},
   "source": [
    "# ground-segmentation"
   ]
  },
  {
   "cell_type": "markdown",
   "metadata": {},
   "source": [
    "Learning a deep neural network for ground segmentation."
   ]
  },
  {
   "cell_type": "markdown",
   "metadata": {},
   "source": [
    "## Preprocessing"
   ]
  },
  {
   "cell_type": "markdown",
   "metadata": {},
   "source": [
    "### Download dataset"
   ]
  },
  {
   "cell_type": "code",
   "execution_count": 1,
   "metadata": {},
   "outputs": [],
   "source": [
    "import os\n",
    "import zipfile\n",
    "from google_drive_downloader import GoogleDriveDownloader as gdd\n",
    "\n",
    "DATASET_ZIPFILE = './cmu_corridor_dataset.zip'\n",
    "OUTPUT_DIR = './dataset'\n",
    "\n",
    "# Download dataset from google drive\n",
    "if not os.path.exists(DATASET_ZIPFILE):\n",
    "    gdd.download_file_from_google_drive(file_id='16yHVv2HIV2pqJj-Z1k8gRSb31enJeMdm',\n",
    "                                        dest_path=DATASET_ZIPFILE,\n",
    "                                        unzip=False)\n",
    "\n",
    "# Uncompressed dataset\n",
    "fz = zipfile.ZipFile(DATASET_ZIPFILE, 'r')\n",
    "for file in fz.namelist():\n",
    "    fz.extract(file, OUTPUT_DIR)"
   ]
  },
  {
   "cell_type": "markdown",
   "metadata": {},
   "source": [
    "### Load dataset"
   ]
  },
  {
   "cell_type": "code",
   "execution_count": 1,
   "metadata": {},
   "outputs": [
    {
     "data": {
      "application/vnd.jupyter.widget-view+json": {
       "model_id": "cc41d180a30b47439abbdaeafea2e42c",
       "version_major": 2,
       "version_minor": 0
      },
      "text/plain": [
       "HBox(children=(IntProgress(value=0, description='Loading images', max=967, style=ProgressStyle(description_wid…"
      ]
     },
     "metadata": {},
     "output_type": "display_data"
    },
    {
     "name": "stdout",
     "output_type": "stream",
     "text": [
      "\n"
     ]
    },
    {
     "data": {
      "application/vnd.jupyter.widget-view+json": {
       "model_id": "d6af1a71a3a5431c85f23551436718c4",
       "version_major": 2,
       "version_minor": 0
      },
      "text/plain": [
       "HBox(children=(IntProgress(value=0, description='Loading labels', max=967, style=ProgressStyle(description_wid…"
      ]
     },
     "metadata": {},
     "output_type": "display_data"
    },
    {
     "name": "stdout",
     "output_type": "stream",
     "text": [
      "\n"
     ]
    }
   ],
   "source": [
    "from path import Path\n",
    "import numpy as np\n",
    "import scipy.io\n",
    "from PIL import Image\n",
    "import glob\n",
    "from tqdm import tqdm_notebook, tnrange\n",
    "\n",
    "DATASET_PATH = Path('./dataset')\n",
    "\n",
    "# Load images\n",
    "image_files = glob.glob(DATASET_PATH / 'raw_image/*.png')\n",
    "image_files = sorted(image_files)\n",
    "images = []\n",
    "for image_file in tqdm_notebook(image_files, total=len(image_files), desc=\"Loading images\"):\n",
    "    image = np.array(Image.open(image_file).convert('L'))\n",
    "    image = image / 255.0 # Normalization\n",
    "    images.append(image)\n",
    "images = np.array(images)\n",
    "\n",
    "# Load labels\n",
    "label_files = glob.glob(DATASET_PATH / 'ground_truth/*bw.png')\n",
    "label_files = sorted(label_files)\n",
    "labels = []\n",
    "for label_file in tqdm_notebook(label_files, total=len(label_files), desc=\"Loading labels\"):\n",
    "    label = np.array(Image.open(label_file))\n",
    "    label = label / 255.0 # Normalization\n",
    "    labels.append(label)\n",
    "labels = np.array(labels)\n",
    "\n",
    "assert len(images) == len(labels)\n",
    "\n",
    "# Load split mat\n",
    "split_mat = scipy.io.loadmat(DATASET_PATH / 'train_test_split.mat')\n",
    "train_index = split_mat['train_index'].ravel()\n",
    "test_index = split_mat['test_index'].ravel()"
   ]
  },
  {
   "cell_type": "markdown",
   "metadata": {},
   "source": [
    "### Insight dataset"
   ]
  },
  {
   "cell_type": "code",
   "execution_count": 3,
   "metadata": {},
   "outputs": [
    {
     "data": {
      "image/png": "[encoded data removed]",
      "text/plain": [
       "<Figure size 432x288 with 8 Axes>"
      ]
     },
     "metadata": {
      "needs_background": "light"
     },
     "output_type": "display_data"
    }
   ],
   "source": [
    "from matplotlib import pyplot as plt\n",
    "#plt.rcParams['figure.figsize'] = [5, 8]\n",
    "\n",
    "def plot_image(ax, img, title):\n",
    "    ax.axis('off')\n",
    "    ax.set_title(title)\n",
    "    ax.imshow(img, cmap='gray')\n",
    "    \n",
    "def plot_label(ax, label, title):\n",
    "    ax.axis('off')\n",
    "    ax.set_title(title)\n",
    "    ax.imshow(label, cmap='gray')\n",
    "    \n",
    "NUM_PLOTTING = 4\n",
    "\n",
    "fig = plt.figure(\"Insight dataset\")\n",
    "\n",
    "for index in range(NUM_PLOTTING):\n",
    "    image, label = images[index], labels[index]\n",
    "    image_title = '' if index != 0 else 'Raw image'\n",
    "    label_title = '' if index != 0 else 'Ground segmentation'\n",
    "\n",
    "    ax = fig.add_subplot(NUM_PLOTTING, 2, index*2 + 1)\n",
    "    plot_image(ax, image, title=image_title)\n",
    "    ax = fig.add_subplot(NUM_PLOTTING, 2, index*2 + 2)\n",
    "    plot_label(ax, label, title=label_title)\n",
    "\n",
    "plt.show()"
   ]
  },
  {
   "cell_type": "markdown",
   "metadata": {},
   "source": [
    "### Split dataset"
   ]
  },
  {
   "cell_type": "code",
   "execution_count": 4,
   "metadata": {},
   "outputs": [],
   "source": [
    "train_index, test_index = sorted(train_index), sorted(test_index)\n",
    "\n",
    "# Expand one dim as input is gray\n",
    "extended_images = np.expand_dims(images, -1)\n",
    "extended_labels = np.expand_dims(labels, -1)\n",
    "\n",
    "X_train, y_train = extended_images[train_index], extended_labels[train_index]\n",
    "X_test, y_test = extended_images[test_index], extended_labels[test_index]"
   ]
  },
  {
   "cell_type": "markdown",
   "metadata": {},
   "source": [
    "## Define Model"
   ]
  },
  {
   "cell_type": "markdown",
   "metadata": {},
   "source": [
    "### unet"
   ]
  },
  {
   "cell_type": "code",
   "execution_count": 5,
   "metadata": {},
   "outputs": [],
   "source": [
    "import tensorflow as tf\n",
    "\n",
    "from tensorflow.keras.models import Model\n",
    "from tensorflow.keras.layers import Conv2D, BatchNormalization, Activation\n",
    "from tensorflow.keras.layers import MaxPooling2D, Dropout, Conv2DTranspose, concatenate\n",
    "\n",
    "def conv2d_block(input_tensor, n_filters, kernel_size=3, batchnorm=True):\n",
    "    \"\"\"Function to add 2 convolutional layers with the parameters passed to it\"\"\"\n",
    "    # first layer\n",
    "    x = Conv2D(filters=n_filters, kernel_size=(kernel_size, kernel_size),\\\n",
    "                      kernel_initializer='he_normal', padding='same')(input_tensor)\n",
    "    if batchnorm:\n",
    "        x = BatchNormalization()(x)\n",
    "    x = Activation('relu')(x)\n",
    "    \n",
    "    # second layer\n",
    "    x = Conv2D(filters=n_filters, kernel_size=(kernel_size, kernel_size),\\\n",
    "                      kernel_initializer='he_normal', padding='same')(input_tensor)\n",
    "    if batchnorm:\n",
    "        x = BatchNormalization()(x)\n",
    "    x = Activation('relu')(x)\n",
    "    \n",
    "    return x\n",
    "\n",
    "def get_unet(input_img, n_filters=16, dropout=0.1, batchnorm=True):\n",
    "    \"\"\"Function to define the UNET Model\"\"\"\n",
    "    # Contracting Path\n",
    "    c1 = conv2d_block(input_img, n_filters*1, kernel_size=3, batchnorm=batchnorm)\n",
    "    p1 = MaxPooling2D((2, 2))(c1)\n",
    "    p1 = Dropout(dropout)(p1)\n",
    "    \n",
    "    c2 = conv2d_block(p1, n_filters*2, kernel_size=3, batchnorm=batchnorm)\n",
    "    p2 = MaxPooling2D((2, 2))(c2)\n",
    "    p2 = Dropout(dropout)(p2)\n",
    "    \n",
    "    c3 = conv2d_block(p2, n_filters*4, kernel_size=3, batchnorm=batchnorm)\n",
    "    p3 = MaxPooling2D((2, 2))(c3)\n",
    "    p3 = Dropout(dropout)(p3)\n",
    "    \n",
    "    c4 = conv2d_block(p3, n_filters*8, kernel_size=3, batchnorm=batchnorm)\n",
    "    p4 = MaxPooling2D((2, 2))(c4)\n",
    "    p4 = Dropout(dropout)(p4)\n",
    "    \n",
    "    c5 = conv2d_block(p4, n_filters=n_filters*16, kernel_size=3, batchnorm=batchnorm)\n",
    "    \n",
    "    # Expansive Path\n",
    "    u6 = Conv2DTranspose(n_filters*8, (3, 3), strides=(2, 2), padding='same')(c5)\n",
    "    u6 = concatenate([u6, c4])\n",
    "    u6 = Dropout(dropout)(u6)\n",
    "    c6 = conv2d_block(u6, n_filters*8, kernel_size=3, batchnorm=batchnorm)\n",
    "    \n",
    "    u7 = Conv2DTranspose(n_filters*4, (3, 3), strides=(2, 2), padding='same')(c6)\n",
    "    u7 = concatenate([u7, c3])\n",
    "    u7 = Dropout(dropout)(u7)\n",
    "    c7 = conv2d_block(u7, n_filters*4, kernel_size=3, batchnorm=batchnorm)\n",
    "    \n",
    "    u8 = Conv2DTranspose(n_filters*2, (3, 3), strides=(2, 2), padding='same')(c7)\n",
    "    u8 = concatenate([u8, c2])\n",
    "    u8 = Dropout(dropout)(u8)\n",
    "    c8 = conv2d_block(u8, n_filters*2, kernel_size=3, batchnorm=batchnorm)\n",
    "    \n",
    "    u9 = Conv2DTranspose(n_filters*1, (3, 3), strides=(2, 2), padding='same')(c8)\n",
    "    u9 = concatenate([u9, c1])\n",
    "    u9 = Dropout(dropout)(u9)\n",
    "    c9 = conv2d_block(u9, n_filters*1, kernel_size=3, batchnorm=batchnorm)\n",
    "    \n",
    "    outputs = Conv2D(1, (1, 1), activation='sigmoid')(c9)\n",
    "    model = Model(inputs=[input_img], outputs=[outputs], name='unet')\n",
    "    return model"
   ]
  },
  {
   "cell_type": "code",
   "execution_count": 6,
   "metadata": {},
   "outputs": [],
   "source": [
    "img_height, img_width = images.shape[1], images.shape[2]"
   ]
  },
  {
   "cell_type": "code",
   "execution_count": 16,
   "metadata": {},
   "outputs": [],
   "source": [
    "from tensorflow.keras import Input\n",
    "from tensorflow.keras.optimizers import Adam, SGD\n",
    "\n",
    "input_img = Input((img_height, img_width, 1), name='img')\n",
    "model = get_unet(input_img, n_filters=16, dropout=0.05, batchnorm=True)\n",
    "model.compile(optimizer=Adam(), loss=\"binary_crossentropy\", metrics=[\"accuracy\"])"
   ]
  },
  {
   "cell_type": "code",
   "execution_count": 17,
   "metadata": {},
   "outputs": [
    {
     "name": "stdout",
     "output_type": "stream",
     "text": [
      "Model: \"unet\"\n",
      "__________________________________________________________________________________________________\n",
      "Layer (type)                    Output Shape         Param #     Connected to                     \n",
      "==================================================================================================\n",
      "img (InputLayer)                [(None, 240, 320, 1) 0                                            \n",
      "__________________________________________________________________________________________________\n",
      "conv2d_20 (Conv2D)              (None, 240, 320, 16) 160         img[0][0]                        \n",
      "__________________________________________________________________________________________________\n",
      "batch_normalization_19 (BatchNo (None, 240, 320, 16) 64          conv2d_20[0][0]                  \n",
      "__________________________________________________________________________________________________\n",
      "activation_19 (Activation)      (None, 240, 320, 16) 0           batch_normalization_19[0][0]     \n",
      "__________________________________________________________________________________________________\n",
      "max_pooling2d_4 (MaxPooling2D)  (None, 120, 160, 16) 0           activation_19[0][0]              \n",
      "__________________________________________________________________________________________________\n",
      "dropout_8 (Dropout)             (None, 120, 160, 16) 0           max_pooling2d_4[0][0]            \n",
      "__________________________________________________________________________________________________\n",
      "conv2d_22 (Conv2D)              (None, 120, 160, 32) 4640        dropout_8[0][0]                  \n",
      "__________________________________________________________________________________________________\n",
      "batch_normalization_21 (BatchNo (None, 120, 160, 32) 128         conv2d_22[0][0]                  \n",
      "__________________________________________________________________________________________________\n",
      "activation_21 (Activation)      (None, 120, 160, 32) 0           batch_normalization_21[0][0]     \n",
      "__________________________________________________________________________________________________\n",
      "max_pooling2d_5 (MaxPooling2D)  (None, 60, 80, 32)   0           activation_21[0][0]              \n",
      "__________________________________________________________________________________________________\n",
      "dropout_9 (Dropout)             (None, 60, 80, 32)   0           max_pooling2d_5[0][0]            \n",
      "__________________________________________________________________________________________________\n",
      "conv2d_24 (Conv2D)              (None, 60, 80, 64)   18496       dropout_9[0][0]                  \n",
      "__________________________________________________________________________________________________\n",
      "batch_normalization_23 (BatchNo (None, 60, 80, 64)   256         conv2d_24[0][0]                  \n",
      "__________________________________________________________________________________________________\n",
      "activation_23 (Activation)      (None, 60, 80, 64)   0           batch_normalization_23[0][0]     \n",
      "__________________________________________________________________________________________________\n",
      "max_pooling2d_6 (MaxPooling2D)  (None, 30, 40, 64)   0           activation_23[0][0]              \n",
      "__________________________________________________________________________________________________\n",
      "dropout_10 (Dropout)            (None, 30, 40, 64)   0           max_pooling2d_6[0][0]            \n",
      "__________________________________________________________________________________________________\n",
      "conv2d_26 (Conv2D)              (None, 30, 40, 128)  73856       dropout_10[0][0]                 \n",
      "__________________________________________________________________________________________________\n",
      "batch_normalization_25 (BatchNo (None, 30, 40, 128)  512         conv2d_26[0][0]                  \n",
      "__________________________________________________________________________________________________\n",
      "activation_25 (Activation)      (None, 30, 40, 128)  0           batch_normalization_25[0][0]     \n",
      "__________________________________________________________________________________________________\n",
      "max_pooling2d_7 (MaxPooling2D)  (None, 15, 20, 128)  0           activation_25[0][0]              \n",
      "__________________________________________________________________________________________________\n",
      "dropout_11 (Dropout)            (None, 15, 20, 128)  0           max_pooling2d_7[0][0]            \n",
      "__________________________________________________________________________________________________\n",
      "conv2d_28 (Conv2D)              (None, 15, 20, 256)  295168      dropout_11[0][0]                 \n",
      "__________________________________________________________________________________________________\n",
      "batch_normalization_27 (BatchNo (None, 15, 20, 256)  1024        conv2d_28[0][0]                  \n",
      "__________________________________________________________________________________________________\n",
      "activation_27 (Activation)      (None, 15, 20, 256)  0           batch_normalization_27[0][0]     \n",
      "__________________________________________________________________________________________________\n",
      "conv2d_transpose_4 (Conv2DTrans (None, 30, 40, 128)  295040      activation_27[0][0]              \n",
      "__________________________________________________________________________________________________\n",
      "concatenate_4 (Concatenate)     (None, 30, 40, 256)  0           conv2d_transpose_4[0][0]         \n",
      "                                                                 activation_25[0][0]              \n",
      "__________________________________________________________________________________________________\n",
      "dropout_12 (Dropout)            (None, 30, 40, 256)  0           concatenate_4[0][0]              \n",
      "__________________________________________________________________________________________________\n",
      "conv2d_30 (Conv2D)              (None, 30, 40, 128)  295040      dropout_12[0][0]                 \n",
      "__________________________________________________________________________________________________\n",
      "batch_normalization_29 (BatchNo (None, 30, 40, 128)  512         conv2d_30[0][0]                  \n",
      "__________________________________________________________________________________________________\n",
      "activation_29 (Activation)      (None, 30, 40, 128)  0           batch_normalization_29[0][0]     \n",
      "__________________________________________________________________________________________________\n",
      "conv2d_transpose_5 (Conv2DTrans (None, 60, 80, 64)   73792       activation_29[0][0]              \n",
      "__________________________________________________________________________________________________\n",
      "concatenate_5 (Concatenate)     (None, 60, 80, 128)  0           conv2d_transpose_5[0][0]         \n",
      "                                                                 activation_23[0][0]              \n",
      "__________________________________________________________________________________________________\n",
      "dropout_13 (Dropout)            (None, 60, 80, 128)  0           concatenate_5[0][0]              \n",
      "__________________________________________________________________________________________________\n",
      "conv2d_32 (Conv2D)              (None, 60, 80, 64)   73792       dropout_13[0][0]                 \n",
      "__________________________________________________________________________________________________\n",
      "batch_normalization_31 (BatchNo (None, 60, 80, 64)   256         conv2d_32[0][0]                  \n",
      "__________________________________________________________________________________________________\n",
      "activation_31 (Activation)      (None, 60, 80, 64)   0           batch_normalization_31[0][0]     \n",
      "__________________________________________________________________________________________________\n",
      "conv2d_transpose_6 (Conv2DTrans (None, 120, 160, 32) 18464       activation_31[0][0]              \n",
      "__________________________________________________________________________________________________\n",
      "concatenate_6 (Concatenate)     (None, 120, 160, 64) 0           conv2d_transpose_6[0][0]         \n",
      "                                                                 activation_21[0][0]              \n",
      "__________________________________________________________________________________________________\n",
      "dropout_14 (Dropout)            (None, 120, 160, 64) 0           concatenate_6[0][0]              \n",
      "__________________________________________________________________________________________________\n",
      "conv2d_34 (Conv2D)              (None, 120, 160, 32) 18464       dropout_14[0][0]                 \n",
      "__________________________________________________________________________________________________\n",
      "batch_normalization_33 (BatchNo (None, 120, 160, 32) 128         conv2d_34[0][0]                  \n",
      "__________________________________________________________________________________________________\n",
      "activation_33 (Activation)      (None, 120, 160, 32) 0           batch_normalization_33[0][0]     \n",
      "__________________________________________________________________________________________________\n",
      "conv2d_transpose_7 (Conv2DTrans (None, 240, 320, 16) 4624        activation_33[0][0]              \n",
      "__________________________________________________________________________________________________\n",
      "concatenate_7 (Concatenate)     (None, 240, 320, 32) 0           conv2d_transpose_7[0][0]         \n",
      "                                                                 activation_19[0][0]              \n",
      "__________________________________________________________________________________________________\n",
      "dropout_15 (Dropout)            (None, 240, 320, 32) 0           concatenate_7[0][0]              \n",
      "__________________________________________________________________________________________________\n",
      "conv2d_36 (Conv2D)              (None, 240, 320, 16) 4624        dropout_15[0][0]                 \n",
      "__________________________________________________________________________________________________\n",
      "batch_normalization_35 (BatchNo (None, 240, 320, 16) 64          conv2d_36[0][0]                  \n",
      "__________________________________________________________________________________________________\n",
      "activation_35 (Activation)      (None, 240, 320, 16) 0           batch_normalization_35[0][0]     \n",
      "__________________________________________________________________________________________________\n",
      "conv2d_37 (Conv2D)              (None, 240, 320, 1)  17          activation_35[0][0]              \n",
      "==================================================================================================\n",
      "Total params: 1,179,121\n",
      "Trainable params: 1,177,649\n",
      "Non-trainable params: 1,472\n",
      "__________________________________________________________________________________________________\n"
     ]
    }
   ],
   "source": [
    "model.summary()"
   ]
  },
  {
   "cell_type": "code",
   "execution_count": 18,
   "metadata": {},
   "outputs": [],
   "source": [
    "from tensorflow.keras.callbacks import EarlyStopping, ModelCheckpoint, ReduceLROnPlateau, TensorBoard\n",
    "\n",
    "callbacks = [\n",
    "    #EarlyStopping(patience=10, verbose=1),\n",
    "    ReduceLROnPlateau(factor=0.1, patience=5, min_lr=0.00001, verbose=1),\n",
    "    ModelCheckpoint('models/model-gs-unet.h5', verbose=1, save_best_only=True, save_weights_only=True),\n",
    "    TensorBoard(log_dir='.logs')\n",
    "]"
   ]
  },
  {
   "cell_type": "code",
   "execution_count": 19,
   "metadata": {},
   "outputs": [
    {
     "name": "stdout",
     "output_type": "stream",
     "text": [
      "Train on 725 samples, validate on 242 samples\n",
      "Epoch 1/50\n",
      "725/725 [==============================] - 12s 17ms/sample - loss: 0.6066 - accuracy: 0.7075 - val_loss: 0.6066 - val_accuracy: 0.8485\n",
      "Epoch 2/50\n",
      "725/725 [==============================] - 10s 14ms/sample - loss: 0.3856 - accuracy: 0.8889 - val_loss: 0.4420 - val_accuracy: 0.8480\n",
      "Epoch 3/50\n",
      "725/725 [==============================] - 10s 14ms/sample - loss: 0.3172 - accuracy: 0.9072 - val_loss: 0.3637 - val_accuracy: 0.8711\n",
      "Epoch 4/50\n",
      "725/725 [==============================] - 10s 14ms/sample - loss: 0.2809 - accuracy: 0.9114 - val_loss: 0.3224 - val_accuracy: 0.8761\n",
      "Epoch 5/50\n",
      "725/725 [==============================] - 10s 14ms/sample - loss: 0.2439 - accuracy: 0.9212 - val_loss: 0.3017 - val_accuracy: 0.8844\n",
      "Epoch 6/50\n",
      "725/725 [==============================] - 10s 13ms/sample - loss: 0.2139 - accuracy: 0.9295 - val_loss: 0.2564 - val_accuracy: 0.9012\n",
      "Epoch 7/50\n",
      "725/725 [==============================] - 10s 13ms/sample - loss: 0.1988 - accuracy: 0.9312 - val_loss: 0.2630 - val_accuracy: 0.8986\n",
      "Epoch 8/50\n",
      "725/725 [==============================] - 10s 13ms/sample - loss: 0.1835 - accuracy: 0.9354 - val_loss: 0.2541 - val_accuracy: 0.9006\n",
      "Epoch 9/50\n",
      "725/725 [==============================] - 10s 13ms/sample - loss: 0.1773 - accuracy: 0.9358 - val_loss: 0.2096 - val_accuracy: 0.9198\n",
      "Epoch 10/50\n",
      "725/725 [==============================] - 10s 13ms/sample - loss: 0.1691 - accuracy: 0.9381 - val_loss: 0.2035 - val_accuracy: 0.9228\n",
      "Epoch 11/50\n",
      "725/725 [==============================] - 10s 13ms/sample - loss: 0.1688 - accuracy: 0.9371 - val_loss: 0.2854 - val_accuracy: 0.9031\n",
      "Epoch 12/50\n",
      "725/725 [==============================] - 10s 13ms/sample - loss: 0.1508 - accuracy: 0.9439 - val_loss: 0.1977 - val_accuracy: 0.9266\n",
      "Epoch 13/50\n",
      "725/725 [==============================] - 10s 13ms/sample - loss: 0.1388 - accuracy: 0.9488 - val_loss: 0.2248 - val_accuracy: 0.9197\n",
      "Epoch 14/50\n",
      "725/725 [==============================] - 10s 13ms/sample - loss: 0.1418 - accuracy: 0.9466 - val_loss: 0.2385 - val_accuracy: 0.9139\n",
      "Epoch 15/50\n",
      "725/725 [==============================] - 10s 13ms/sample - loss: 0.1414 - accuracy: 0.9470 - val_loss: 0.2425 - val_accuracy: 0.9176\n",
      "Epoch 16/50\n",
      "725/725 [==============================] - 10s 13ms/sample - loss: 0.1267 - accuracy: 0.9524 - val_loss: 0.2807 - val_accuracy: 0.9059\n",
      "Epoch 17/50\n",
      "720/725 [============================>.] - ETA: 0s - loss: 0.1306 - accuracy: 0.9501\n",
      "Epoch 00017: ReduceLROnPlateau reducing learning rate to 0.00010000000474974513.\n",
      "725/725 [==============================] - 10s 14ms/sample - loss: 0.1305 - accuracy: 0.9501 - val_loss: 0.2170 - val_accuracy: 0.9255\n",
      "Epoch 18/50\n",
      "725/725 [==============================] - 10s 13ms/sample - loss: 0.1165 - accuracy: 0.9563 - val_loss: 0.1579 - val_accuracy: 0.9416\n",
      "Epoch 19/50\n",
      "725/725 [==============================] - 10s 13ms/sample - loss: 0.1059 - accuracy: 0.9610 - val_loss: 0.1470 - val_accuracy: 0.9443\n",
      "Epoch 20/50\n",
      "725/725 [==============================] - 10s 13ms/sample - loss: 0.1011 - accuracy: 0.9626 - val_loss: 0.1505 - val_accuracy: 0.9432\n",
      "Epoch 21/50\n",
      "725/725 [==============================] - 10s 13ms/sample - loss: 0.1007 - accuracy: 0.9628 - val_loss: 0.1419 - val_accuracy: 0.9464\n",
      "Epoch 22/50\n",
      "725/725 [==============================] - 9s 13ms/sample - loss: 0.0999 - accuracy: 0.9633 - val_loss: 0.1531 - val_accuracy: 0.9431\n",
      "Epoch 23/50\n",
      "725/725 [==============================] - 10s 13ms/sample - loss: 0.0981 - accuracy: 0.9637 - val_loss: 0.1425 - val_accuracy: 0.9464\n",
      "Epoch 24/50\n",
      "725/725 [==============================] - 9s 13ms/sample - loss: 0.0996 - accuracy: 0.9633 - val_loss: 0.1456 - val_accuracy: 0.9456\n",
      "Epoch 25/50\n",
      "725/725 [==============================] - 10s 13ms/sample - loss: 0.0958 - accuracy: 0.9651 - val_loss: 0.1378 - val_accuracy: 0.9487\n",
      "Epoch 26/50\n",
      "725/725 [==============================] - 10s 13ms/sample - loss: 0.0960 - accuracy: 0.9645 - val_loss: 0.1374 - val_accuracy: 0.9486\n",
      "Epoch 27/50\n",
      "725/725 [==============================] - 10s 14ms/sample - loss: 0.0942 - accuracy: 0.9656 - val_loss: 0.1421 - val_accuracy: 0.9473\n",
      "Epoch 28/50\n",
      "725/725 [==============================] - 10s 13ms/sample - loss: 0.0931 - accuracy: 0.9659 - val_loss: 0.1533 - val_accuracy: 0.9435\n",
      "Epoch 29/50\n",
      "725/725 [==============================] - 10s 14ms/sample - loss: 0.0925 - accuracy: 0.9659 - val_loss: 0.1566 - val_accuracy: 0.9425\n",
      "Epoch 30/50\n",
      "725/725 [==============================] - 10s 14ms/sample - loss: 0.0925 - accuracy: 0.9654 - val_loss: 0.1552 - val_accuracy: 0.9431\n",
      "Epoch 31/50\n",
      "725/725 [==============================] - 10s 14ms/sample - loss: 0.0895 - accuracy: 0.9673 - val_loss: 0.1363 - val_accuracy: 0.9498\n",
      "Epoch 32/50\n",
      "725/725 [==============================] - 10s 14ms/sample - loss: 0.0877 - accuracy: 0.9678 - val_loss: 0.1446 - val_accuracy: 0.9475\n",
      "Epoch 33/50\n",
      "725/725 [==============================] - 10s 13ms/sample - loss: 0.0856 - accuracy: 0.9686 - val_loss: 0.1539 - val_accuracy: 0.9437\n",
      "Epoch 34/50\n",
      "725/725 [==============================] - 10s 13ms/sample - loss: 0.0861 - accuracy: 0.9682 - val_loss: 0.1444 - val_accuracy: 0.9476\n",
      "Epoch 35/50\n",
      "725/725 [==============================] - 10s 13ms/sample - loss: 0.0861 - accuracy: 0.9682 - val_loss: 0.1370 - val_accuracy: 0.9498\n",
      "Epoch 36/50\n",
      "720/725 [============================>.] - ETA: 0s - loss: 0.0887 - accuracy: 0.9670\n",
      "Epoch 00036: ReduceLROnPlateau reducing learning rate to 1.0000000474974514e-05.\n",
      "725/725 [==============================] - 10s 13ms/sample - loss: 0.0885 - accuracy: 0.9671 - val_loss: 0.1574 - val_accuracy: 0.9433\n",
      "Epoch 37/50\n",
      "725/725 [==============================] - 9s 13ms/sample - loss: 0.0859 - accuracy: 0.9687 - val_loss: 0.1466 - val_accuracy: 0.9469\n",
      "Epoch 38/50\n",
      "725/725 [==============================] - 10s 13ms/sample - loss: 0.0812 - accuracy: 0.9702 - val_loss: 0.1451 - val_accuracy: 0.9472\n",
      "Epoch 39/50\n",
      "725/725 [==============================] - 10s 13ms/sample - loss: 0.0802 - accuracy: 0.9707 - val_loss: 0.1455 - val_accuracy: 0.9472\n",
      "Epoch 40/50\n",
      "725/725 [==============================] - 10s 13ms/sample - loss: 0.0828 - accuracy: 0.9697 - val_loss: 0.1441 - val_accuracy: 0.9477\n",
      "Epoch 41/50\n",
      "720/725 [============================>.] - ETA: 0s - loss: 0.0814 - accuracy: 0.9704\n",
      "Epoch 00041: ReduceLROnPlateau reducing learning rate to 1e-05.\n",
      "725/725 [==============================] - 10s 13ms/sample - loss: 0.0814 - accuracy: 0.9704 - val_loss: 0.1431 - val_accuracy: 0.9479\n",
      "Epoch 42/50\n",
      "725/725 [==============================] - 10s 13ms/sample - loss: 0.0820 - accuracy: 0.9699 - val_loss: 0.1464 - val_accuracy: 0.9467\n",
      "Epoch 43/50\n",
      "725/725 [==============================] - 10s 14ms/sample - loss: 0.0801 - accuracy: 0.9708 - val_loss: 0.1492 - val_accuracy: 0.9456\n",
      "Epoch 44/50\n",
      "725/725 [==============================] - 10s 13ms/sample - loss: 0.0808 - accuracy: 0.9706 - val_loss: 0.1477 - val_accuracy: 0.9464\n",
      "Epoch 45/50\n",
      "725/725 [==============================] - 10s 14ms/sample - loss: 0.0806 - accuracy: 0.9703 - val_loss: 0.1472 - val_accuracy: 0.9466\n",
      "Epoch 46/50\n",
      "725/725 [==============================] - 10s 13ms/sample - loss: 0.0809 - accuracy: 0.9700 - val_loss: 0.1499 - val_accuracy: 0.9455\n",
      "Epoch 47/50\n",
      "725/725 [==============================] - 10s 14ms/sample - loss: 0.0808 - accuracy: 0.9704 - val_loss: 0.1481 - val_accuracy: 0.9463\n",
      "Epoch 48/50\n",
      "725/725 [==============================] - 10s 14ms/sample - loss: 0.0799 - accuracy: 0.9706 - val_loss: 0.1483 - val_accuracy: 0.9462\n",
      "Epoch 49/50\n",
      "725/725 [==============================] - 10s 14ms/sample - loss: 0.0813 - accuracy: 0.9700 - val_loss: 0.1468 - val_accuracy: 0.9468\n",
      "Epoch 50/50\n",
      "725/725 [==============================] - 10s 13ms/sample - loss: 0.0790 - accuracy: 0.9713 - val_loss: 0.1474 - val_accuracy: 0.9467\n"
     ]
    }
   ],
   "source": [
    "results = model.fit(X_train, y_train, batch_size=16, epochs=50, callbacks=callbacks,\\\n",
    "                    validation_data=(X_test, y_test))"
   ]
  },
  {
   "cell_type": "code",
   "execution_count": 21,
   "metadata": {},
   "outputs": [
    {
     "data": {
      "image/png": "[encoded data removed]",
      "text/plain": [
       "<Figure size 576x576 with 1 Axes>"
      ]
     },
     "metadata": {
      "needs_background": "light"
     },
     "output_type": "display_data"
    }
   ],
   "source": [
    "plt.figure(figsize=(8, 8))\n",
    "plt.title(\"Learning curve\")\n",
    "plt.plot(results.history[\"loss\"], label=\"loss\")\n",
    "plt.plot(results.history[\"val_loss\"], label=\"val_loss\")\n",
    "plt.plot( np.argmin(results.history[\"val_loss\"]), np.min(results.history[\"val_loss\"]), marker=\"x\", color=\"r\", label=\"best model\")\n",
    "plt.xlabel(\"Epochs\")\n",
    "plt.ylabel(\"log_loss\")\n",
    "plt.legend();"
   ]
  },
  {
   "cell_type": "code",
   "execution_count": null,
   "metadata": {},
   "outputs": [],
   "source": []
  }
 ],
 "metadata": {
  "kernelspec": {
   "display_name": "Python 3",
   "language": "python",
   "name": "python3"
  },
  "language_info": {
   "codemirror_mode": {
    "name": "ipython",
    "version": 3
   },
   "file_extension": ".py",
   "mimetype": "text/x-python",
   "name": "python",
   "nbconvert_exporter": "python",
   "pygments_lexer": "ipython3",
   "version": "3.7.3"
  }
 },
 "nbformat": 4,
 "nbformat_minor": 2
}
